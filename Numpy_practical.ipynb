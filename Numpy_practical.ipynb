{
  "nbformat": 4,
  "nbformat_minor": 0,
  "metadata": {
    "colab": {
      "provenance": []
    },
    "kernelspec": {
      "name": "python3",
      "display_name": "Python 3"
    },
    "language_info": {
      "name": "python"
    }
  },
  "cells": [
    {
      "cell_type": "code",
      "execution_count": 1,
      "metadata": {
        "id": "i3KSauAtx7P3"
      },
      "outputs": [],
      "source": [
        "import numpy as np"
      ]
    },
    {
      "cell_type": "code",
      "source": [
        "import random"
      ],
      "metadata": {
        "id": "njsIhXZcx_JW"
      },
      "execution_count": 2,
      "outputs": []
    },
    {
      "cell_type": "code",
      "source": [
        "# 1. Create a 3x3 Numpy array with random integers between 1 and 100. Then, interchange its rows and columns."
      ],
      "metadata": {
        "id": "r8My3d_LyFMh"
      },
      "execution_count": null,
      "outputs": []
    },
    {
      "cell_type": "code",
      "source": [
        "# ans : 3x3 Numpy array with random integers between 1 and 100 then, interchange its rows and columns\n",
        "array=np.random.randint(1,100,(3,3))\n",
        "print(array)\n",
        "arrayT=array.T\n",
        "print(arrayT)"
      ],
      "metadata": {
        "colab": {
          "base_uri": "https://localhost:8080/"
        },
        "id": "r2Het659yRgO",
        "outputId": "4f1fde47-49ea-492c-c66e-d87a5e03d4e4"
      },
      "execution_count": null,
      "outputs": [
        {
          "output_type": "stream",
          "name": "stdout",
          "text": [
            "[[15 60 66]\n",
            " [85  3 75]\n",
            " [15 77 60]]\n",
            "[[15 85 15]\n",
            " [60  3 77]\n",
            " [66 75 60]]\n"
          ]
        }
      ]
    },
    {
      "cell_type": "code",
      "source": [
        "# 2. Generate a ID NumPy array with 10 elements. Reshape it into a 2x5 array, then into a 5x2 array."
      ],
      "metadata": {
        "id": "ik3EyCoT1A_w"
      },
      "execution_count": null,
      "outputs": []
    },
    {
      "cell_type": "code",
      "source": [
        "# ans: a ID NumPy array with 10 elements. Reshape it into a 2x5 array, then into a 5x2 array:\n",
        "a=np.arange(10)\n",
        "print(a)\n",
        "b=a.reshape(2,5)\n",
        "print(b)\n",
        "c=b.reshape(5,2)\n",
        "print(c)"
      ],
      "metadata": {
        "colab": {
          "base_uri": "https://localhost:8080/"
        },
        "id": "7mk9dHWC1Qva",
        "outputId": "7e7ed81a-d400-4a0d-c7f6-700670506d0b"
      },
      "execution_count": null,
      "outputs": [
        {
          "output_type": "stream",
          "name": "stdout",
          "text": [
            "[0 1 2 3 4 5 6 7 8 9]\n",
            "[[0 1 2 3 4]\n",
            " [5 6 7 8 9]]\n",
            "[[0 1]\n",
            " [2 3]\n",
            " [4 5]\n",
            " [6 7]\n",
            " [8 9]]\n"
          ]
        }
      ]
    },
    {
      "cell_type": "code",
      "source": [
        "# 3. Create a 4x4 Numpy array with random float values. Add a border of zeros around it, resulting in a 6x6 array."
      ],
      "metadata": {
        "id": "gI2r2fgU3UWu"
      },
      "execution_count": null,
      "outputs": []
    },
    {
      "cell_type": "code",
      "source": [
        "# to Create a 4x4 Numpy array with random float values and adding a border of zeros around it, resulting in a 6x6 array:\n",
        "a=np.random.rand(4,4)\n",
        "print(a)\n",
        "b=np.zeros((6,6))\n",
        "b[1:-1,1:-1]=a\n",
        "print(b)"
      ],
      "metadata": {
        "id": "oE4Ua0Fo3avp",
        "colab": {
          "base_uri": "https://localhost:8080/"
        },
        "outputId": "10255c56-64fa-4b46-ced4-dc5433f7d577"
      },
      "execution_count": 25,
      "outputs": [
        {
          "output_type": "stream",
          "name": "stdout",
          "text": [
            "[[0.12388437 0.69489916 0.52017066 0.7407346 ]\n",
            " [0.18812727 0.80232529 0.68043509 0.07491647]\n",
            " [0.54901385 0.434331   0.90327994 0.99118501]\n",
            " [0.12866019 0.93021711 0.90922529 0.89289519]]\n",
            "[[0.         0.         0.         0.         0.         0.        ]\n",
            " [0.         0.12388437 0.69489916 0.52017066 0.7407346  0.        ]\n",
            " [0.         0.18812727 0.80232529 0.68043509 0.07491647 0.        ]\n",
            " [0.         0.54901385 0.434331   0.90327994 0.99118501 0.        ]\n",
            " [0.         0.12866019 0.93021711 0.90922529 0.89289519 0.        ]\n",
            " [0.         0.         0.         0.         0.         0.        ]]\n"
          ]
        }
      ]
    },
    {
      "cell_type": "code",
      "source": [
        "# 4. Using NumPy, create an array of integers from 10 to 60 with a step of 5."
      ],
      "metadata": {
        "id": "vrPvssps6pE3"
      },
      "execution_count": 26,
      "outputs": []
    },
    {
      "cell_type": "code",
      "source": [
        "# Using NumPy, create an array of integers from 10 to 60 with a step of 5.\n",
        "array = np.arange(10, 61, 5)\n",
        "print(array)"
      ],
      "metadata": {
        "colab": {
          "base_uri": "https://localhost:8080/"
        },
        "id": "KxqRGATDBh8o",
        "outputId": "ca82aac4-5ec0-485d-b0e6-08ab936e697e"
      },
      "execution_count": 27,
      "outputs": [
        {
          "output_type": "stream",
          "name": "stdout",
          "text": [
            "[10 15 20 25 30 35 40 45 50 55 60]\n"
          ]
        }
      ]
    },
    {
      "cell_type": "code",
      "source": [
        "# 5. Create a NumPy array of strings ['python, numpy, pandas']. Apply different case transformations (uppercase, lowercase, title case, etc.) to each element."
      ],
      "metadata": {
        "id": "AhotnzZEBvjl"
      },
      "execution_count": 28,
      "outputs": []
    },
    {
      "cell_type": "code",
      "source": [
        "# a numpy array of string with applied transformation:\n",
        "a=np.array(['python','numpy','pandas'])\n",
        "print(a)\n",
        "print(np.char.upper(a))\n",
        "print(np.char.lower(a))\n",
        "print(np.char.title(a))"
      ],
      "metadata": {
        "colab": {
          "base_uri": "https://localhost:8080/"
        },
        "id": "PnRdTSRUCLUw",
        "outputId": "04570ef2-6b47-4220-db7e-19d6a27bb773"
      },
      "execution_count": 29,
      "outputs": [
        {
          "output_type": "stream",
          "name": "stdout",
          "text": [
            "['python' 'numpy' 'pandas']\n",
            "['PYTHON' 'NUMPY' 'PANDAS']\n",
            "['python' 'numpy' 'pandas']\n",
            "['Python' 'Numpy' 'Pandas']\n"
          ]
        }
      ]
    },
    {
      "cell_type": "code",
      "source": [
        "# 6. Generate a NumPy array of words. Insert a space between each character of every word in the array."
      ],
      "metadata": {
        "id": "Lld1PCZPC8Hd"
      },
      "execution_count": 30,
      "outputs": []
    },
    {
      "cell_type": "code",
      "source": [
        "# Generating a NumPy array of words and Inserting a space between each character of every word in the array.\n",
        "\n",
        "words = np.array(['hello', 'world', 'numpy'])\n",
        "spaced_words = np.char.join(' ', words)\n",
        "print(spaced_words)"
      ],
      "metadata": {
        "colab": {
          "base_uri": "https://localhost:8080/"
        },
        "id": "AtpAmsP-EjJJ",
        "outputId": "3963b843-7d6a-4400-e00d-2b75f4633350"
      },
      "execution_count": 39,
      "outputs": [
        {
          "output_type": "stream",
          "name": "stdout",
          "text": [
            "['h e l l o' 'w o r l d' 'n u m p y']\n"
          ]
        }
      ]
    },
    {
      "cell_type": "code",
      "source": [
        "# 7. Create two 2D NumPy arrays and perform element-wise addition, subtraction, multiplication, and division."
      ],
      "metadata": {
        "id": "txr9XKscGfkn"
      },
      "execution_count": 40,
      "outputs": []
    },
    {
      "cell_type": "code",
      "source": [
        "# two 2D NumPy arrays and perform element-wise addition, subtraction, multiplication, and division:\n",
        "a=np.random.randint(1,10,(3,4))\n",
        "b=np.random.randint(1,10,(3,4))\n",
        "print(a)\n",
        "print(b)\n",
        "print(a+b)\n",
        "print(a-b)\n",
        "print(a*b)\n",
        "print(a/b)"
      ],
      "metadata": {
        "colab": {
          "base_uri": "https://localhost:8080/"
        },
        "id": "hJbCVJeyJAkl",
        "outputId": "3379fbbc-08ed-4cc7-acd2-42ebbb99a8da"
      },
      "execution_count": 41,
      "outputs": [
        {
          "output_type": "stream",
          "name": "stdout",
          "text": [
            "[[6 2 5 4]\n",
            " [5 8 3 9]\n",
            " [1 8 7 7]]\n",
            "[[5 8 5 3]\n",
            " [9 7 5 5]\n",
            " [6 8 5 7]]\n",
            "[[11 10 10  7]\n",
            " [14 15  8 14]\n",
            " [ 7 16 12 14]]\n",
            "[[ 1 -6  0  1]\n",
            " [-4  1 -2  4]\n",
            " [-5  0  2  0]]\n",
            "[[30 16 25 12]\n",
            " [45 56 15 45]\n",
            " [ 6 64 35 49]]\n",
            "[[1.2        0.25       1.         1.33333333]\n",
            " [0.55555556 1.14285714 0.6        1.8       ]\n",
            " [0.16666667 1.         1.4        1.        ]]\n"
          ]
        }
      ]
    },
    {
      "cell_type": "code",
      "source": [
        "#  8. Use NumPy to create a 5x5 identity matrix, then extract its diagonal elements."
      ],
      "metadata": {
        "id": "8i72ZKgRJr57"
      },
      "execution_count": 42,
      "outputs": []
    },
    {
      "cell_type": "code",
      "source": [
        "#  Using NumPy to create a 5x5 identity matrix, then extract its diagonal elements:\n",
        "a=np.eye(5)\n",
        "print(a)\n",
        "print(np.diag(a))"
      ],
      "metadata": {
        "colab": {
          "base_uri": "https://localhost:8080/"
        },
        "id": "k-adZkkVJ9L8",
        "outputId": "8602a54a-9aa2-47fc-fc95-9a2a29e9759e"
      },
      "execution_count": 43,
      "outputs": [
        {
          "output_type": "stream",
          "name": "stdout",
          "text": [
            "[[1. 0. 0. 0. 0.]\n",
            " [0. 1. 0. 0. 0.]\n",
            " [0. 0. 1. 0. 0.]\n",
            " [0. 0. 0. 1. 0.]\n",
            " [0. 0. 0. 0. 1.]]\n",
            "[1. 1. 1. 1. 1.]\n"
          ]
        }
      ]
    },
    {
      "cell_type": "code",
      "source": [
        "# 9. Generate a NumPy array of 100 random integers between 0 and 1000. Find and display all prime numbers in this array."
      ],
      "metadata": {
        "id": "DBksXFEgKZZN"
      },
      "execution_count": 44,
      "outputs": []
    },
    {
      "cell_type": "code",
      "source": [
        "# Generating a NumPy array of 100 random integers between 0 and 1000 Finding and display all prime numbers in this array:\n",
        "def is_prime(n):\n",
        "  \"\"\"Checks if a number is prime.\"\"\"\n",
        "  if n <= 1:\n",
        "    return False\n",
        "  for i in range(2, int(n**0.5) + 1):\n",
        "    if n % i == 0:\n",
        "      return False\n",
        "  return True\n",
        "\n",
        "# Generate a NumPy array of 100 random integers between 0 and 1000\n",
        "random_integers = np.random.randint(0, 1001, 100)\n",
        "\n",
        "# Find and display all prime numbers in the array\n",
        "prime_numbers = [num for num in random_integers if is_prime(num)]\n",
        "print(\"Random integers array:\", random_integers)\n",
        "print(\"Prime numbers in the array:\", prime_numbers)"
      ],
      "metadata": {
        "colab": {
          "base_uri": "https://localhost:8080/"
        },
        "id": "d1r_vZBdKmI6",
        "outputId": "3bd04382-62bf-4bdb-eb45-3a423387683f"
      },
      "execution_count": 47,
      "outputs": [
        {
          "output_type": "stream",
          "name": "stdout",
          "text": [
            "Random integers array: [ 49 178 147 178 542  77 608 430 438 754 368 654 826 947 775 438 972 698\n",
            " 564 636 516 471 362 961 742 450 634 587 731  98 759 562 487  99 297 446\n",
            " 445 770 297 961 316 162 704 506 142 855 313  49 423 908 443 722 416 221\n",
            "   4 780 689 266 484 622  27 185 606 211 383  56 108 178 306 102 297 719\n",
            " 241 244 842 895 667 308 309 433 652 477 795 391 311 607 708 478 377 927\n",
            " 563 462 338  49 157 961 898 709 111 485]\n",
            "Prime numbers in the array: [947, 587, 487, 313, 443, 211, 383, 719, 241, 433, 311, 607, 563, 157, 709]\n"
          ]
        }
      ]
    },
    {
      "cell_type": "code",
      "source": [
        "# 10. Create a NumPy array representing daily temperatures for a month. Calculate and display the weekly averages."
      ],
      "metadata": {
        "id": "C2HWp_CoMnnx"
      },
      "execution_count": 48,
      "outputs": []
    },
    {
      "cell_type": "code",
      "source": [
        "# Generate a NumPy array representing daily temperatures for a month\n",
        "daily_temperatures = np.random.randint(22, 47, 30)  # 30 days in a month, temperatures between 15 and 35\n",
        "\n",
        "# Calculate weekly averages\n",
        "weekly_averages = []\n",
        "for i in range(0, len(daily_temperatures), 7):\n",
        "  week_temps = daily_temperatures[i:i+7]\n",
        "  if len(week_temps) > 0:\n",
        "    weekly_average = np.mean(week_temps)\n",
        "    weekly_averages.append(weekly_average)\n",
        "\n",
        "\n",
        "print(\"Daily Temperatures:\", daily_temperatures)\n",
        "print(\"Weekly Averages:\", weekly_averages)"
      ],
      "metadata": {
        "colab": {
          "base_uri": "https://localhost:8080/"
        },
        "id": "qsw5niPLSaXr",
        "outputId": "0a05af9f-11dc-4ffa-e8fc-1627693487c6"
      },
      "execution_count": 50,
      "outputs": [
        {
          "output_type": "stream",
          "name": "stdout",
          "text": [
            "Daily Temperatures: [44 24 43 41 41 25 44 23 40 36 40 42 25 28 42 40 36 44 25 45 25 38 33 46\n",
            " 35 27 40 27 44 36]\n",
            "Weekly Averages: [37.42857142857143, 33.42857142857143, 36.714285714285715, 35.142857142857146, 40.0]\n"
          ]
        }
      ]
    },
    {
      "cell_type": "code",
      "source": [],
      "metadata": {
        "id": "IbKvH9nnTGLC"
      },
      "execution_count": null,
      "outputs": []
    }
  ]
}